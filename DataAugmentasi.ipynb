{
 "cells": [
  {
   "cell_type": "code",
   "execution_count": null,
   "metadata": {},
   "outputs": [],
   "source": [
    "!wget https://www.robots.ox.ac.uk/~vgg/data/dtd/download/dtd-r1.0.1.tar.gz\n",
    "!tar xf dtd-r1.0.1.tar.gz"
   ]
  },
  {
   "cell_type": "code",
   "execution_count": null,
   "metadata": {},
   "outputs": [],
   "source": [
    "import cv2\n",
    "import numpy as np\n",
    "import matplotlib.pyplot as plt\n",
    "import glob\n",
    "import random as rnd\n",
    "import secrets"
   ]
  },
  {
   "cell_type": "code",
   "execution_count": null,
   "metadata": {},
   "outputs": [],
   "source": [
    "kkp = glob.glob('./data_ori/*/k*.png')\n",
    "tng = glob.glob('./data_ori/*/ten*.png')\n",
    "tlr = glob.glob('./data_ori/*/tel*.png')"
   ]
  },
  {
   "cell_type": "code",
   "execution_count": null,
   "metadata": {},
   "outputs": [],
   "source": [
    "dtd = glob.glob('./dtd/images/*/*.jpg')"
   ]
  },
  {
   "cell_type": "code",
   "execution_count": null,
   "metadata": {},
   "outputs": [],
   "source": [
    "len(dtd)"
   ]
  },
  {
   "cell_type": "code",
   "execution_count": null,
   "metadata": {},
   "outputs": [],
   "source": [
    "gmb = cv2.imread(kkp[1], cv2.IMREAD_UNCHANGED)\n",
    "gmb = cv2.cvtColor(gmb, cv2.COLOR_BGRA2RGBA)\n",
    "gmb_a = gmb[:,:,-1]"
   ]
  },
  {
   "cell_type": "code",
   "execution_count": null,
   "metadata": {},
   "outputs": [],
   "source": [
    "plt.imshow(gmb_a)"
   ]
  },
  {
   "cell_type": "code",
   "execution_count": null,
   "metadata": {},
   "outputs": [],
   "source": [
    "def find_contour(gmb_a):\n",
    "    \"\"\"Mencari kontour dari alpha mask\"\"\"\n",
    "    gmb_a = np.ascontiguousarray(gmb_a, dtype=np.uint8)\n",
    "\n",
    "    _, contours, _ = cv2.findContours(gmb_a, cv2.RETR_TREE, cv2.CHAIN_APPROX_SIMPLE)\n",
    "\n",
    "    # Approximate contours to polygons + get bounding rects and circles\n",
    "    contours_poly = [None]*len(contours)\n",
    "    boundRect = [None]*len(contours)\n",
    "    centers = [None]*len(contours)\n",
    "    radius = [None]*len(contours)\n",
    "    for i, c in enumerate(contours):\n",
    "        contours_poly[i] = cv2.approxPolyDP(c, 3, True)\n",
    "        boundRect[i] = cv2.boundingRect(contours_poly[i])\n",
    "        centers[i], radius[i] = cv2.minEnclosingCircle(contours_poly[i])\n",
    "\n",
    "    drawing = np.zeros((gmb_a.shape[0], gmb_a.shape[1], 3), dtype=np.uint8)\n",
    "\n",
    "    # Draw polygonal contour + bonding rects + circles\n",
    "    border = []\n",
    "    for i in range(len(contours)):\n",
    "        if boundRect[i][3] != 1:\n",
    "            border.append(boundRect[i])\n",
    "        #cv2.drawContours(drawing, contours_poly, i, color)\n",
    "        cv2.rectangle(drawing, (int(boundRect[i][0]), int(boundRect[i][1])), \\\n",
    "              (int(boundRect[i][0]+boundRect[i][2]), int(boundRect[i][1]+boundRect[i][3])), (100,200,100), 8)\n",
    "        #cv2.circle(drawing, (int(centers[i][0]), int(centers[i][1])), int(radius[i]), color, 2)\n",
    "\n",
    "    border=border[0]\n",
    "    x = border[2] // 2 + border[0]\n",
    "    y = border[3] // 2 + border[1]\n",
    "\n",
    "    drawing = cv2.circle(drawing, (x,y), 5, (100,200,100),5)\n",
    "    \n",
    "    return drawing, (x,y,border[2],border[3])"
   ]
  },
  {
   "cell_type": "code",
   "execution_count": null,
   "metadata": {},
   "outputs": [],
   "source": [
    "a, d = find_contour(gmb_a)\n",
    "plt.imshow(a)\n",
    "print(d)"
   ]
  },
  {
   "cell_type": "code",
   "execution_count": null,
   "metadata": {},
   "outputs": [],
   "source": [
    "def flip(img):\n",
    "    if bool(rnd.getrandbits(1)):\n",
    "        img = cv2.flip(img,1)\n",
    "    return img\n",
    "\n",
    "def imresize(img,x,y):\n",
    "    img = cv2.resize(img,(x,y))\n",
    "    return img\n",
    "\n",
    "def imrotate(image, angle):\n",
    "    # grab the dimensions of the image and then determine the\n",
    "    # center\n",
    "    (h, w) = image.shape[:2]\n",
    "    (cX, cY) = (w // 2, h // 2)\n",
    " \n",
    "    # grab the rotation matrix (applying the negative of the\n",
    "    # angle to rotate clockwise), then grab the sine and cosine\n",
    "    # (i.e., the rotation components of the matrix)\n",
    "    M = cv2.getRotationMatrix2D((cX, cY), -angle, 1.0)\n",
    "    cos = np.abs(M[0, 0])\n",
    "    sin = np.abs(M[0, 1])\n",
    " \n",
    "    # compute the new bounding dimensions of the image\n",
    "    nW = int((h * sin) + (w * cos))\n",
    "    nH = int((h * cos) + (w * sin))\n",
    " \n",
    "    # adjust the rotation matrix to take into account translation\n",
    "    M[0, 2] += (nW / 2) - cX\n",
    "    M[1, 2] += (nH / 2) - cY\n",
    " \n",
    "    # perform the actual rotation and return the image\n",
    "    return cv2.warpAffine(image, M, (nW, nH))\n",
    "\n",
    "def immove(img, x, y):\n",
    "    a = img\n",
    "    M = np.float32([[1,0,x],[0,1,y]])\n",
    "    a = cv2.warpAffine(a,M,(a.shape[0],a.shape[1]))\n",
    "    return a\n",
    "\n",
    "def overlay_transparent(background, overlay, x, y):\n",
    "\n",
    "    background_width = background.shape[1]\n",
    "    background_height = background.shape[0]\n",
    "\n",
    "    if x >= background_width or y >= background_height:\n",
    "        return background\n",
    "\n",
    "    h, w = overlay.shape[0], overlay.shape[1]\n",
    "\n",
    "    if x + w > background_width:\n",
    "        w = background_width - x\n",
    "        overlay = overlay[:, :w]\n",
    "\n",
    "    if y + h > background_height:\n",
    "        h = background_height - y\n",
    "        overlay = overlay[:h]\n",
    "\n",
    "    if overlay.shape[2] < 4:\n",
    "        overlay = np.concatenate(\n",
    "            [\n",
    "                overlay,\n",
    "                np.ones((overlay.shape[0], overlay.shape[1], 1), dtype = overlay.dtype) * 255\n",
    "            ],\n",
    "            axis = 2,\n",
    "        )\n",
    "\n",
    "    overlay_image = overlay[..., :3]\n",
    "    mask = overlay[..., 3:] / 255.0\n",
    "\n",
    "    background[y:y+h, x:x+w] = (1.0 - mask) * background[y:y+h, x:x+w] + mask * overlay_image\n",
    "\n",
    "    return background"
   ]
  },
  {
   "cell_type": "code",
   "execution_count": null,
   "metadata": {},
   "outputs": [],
   "source": [
    "def generate(imlist, dtd, total = 0, gdir='./datagen/'):\n",
    "            \n",
    "        szw = float(\"{0:.2f}\".format(rnd.uniform(0.8,1.2)))\n",
    "        szh = float(\"{0:.2f}\".format(rnd.uniform(0.8,1.2)))\n",
    "        top = cv2.imread(secrets.choice(imlist), cv2.IMREAD_UNCHANGED)\n",
    "        top = cv2.cvtColor(top, cv2.COLOR_BGRA2RGBA)\n",
    "        height, width, depth = top.shape\n",
    "        hi = int(height * szh)\n",
    "        wi = int(width * szw)\n",
    "        top = imresize(top, hi, wi)\n",
    "        top = flip(top)\n",
    "        top_a = top[:,:,-1]\n",
    "        \n",
    "       \n",
    "        bottom = cv2.imread(secrets.choice(dtd))\n",
    "        bottom = cv2.cvtColor(bottom, cv2.COLOR_BGR2RGB)\n",
    "        bottom = imresize(bottom, 900, 900)\n",
    "        \n",
    "        rotd = rnd.randint(0,180)\n",
    "\n",
    "        top = imrotate(top, rotd)\n",
    "        top_a = imrotate(top_a, rotd)\n",
    "        \n",
    "        blank = np.zeros((bottom.shape[0], bottom.shape[1], 3), dtype=np.uint8)\n",
    "        dd = np.ones(top.shape)*255\n",
    "        \n",
    "        x1 = rnd.randint(0,50)\n",
    "        y1 = rnd.randint(0,50)\n",
    "        \n",
    "        rslt = overlay_transparent(bottom, top, x1, y1)\n",
    "\n",
    "        \n",
    "        cont, cord = find_contour(top_a)\n",
    "        mask = overlay_transparent(blank, cont, x1, y1)\n",
    "\n",
    "        return rslt, mask , cord"
   ]
  },
  {
   "cell_type": "code",
   "execution_count": null,
   "metadata": {},
   "outputs": [],
   "source": [
    "rr, mm , crd = generate(tng,dtd,1)\n",
    "print(crd)"
   ]
  },
  {
   "cell_type": "code",
   "execution_count": null,
   "metadata": {},
   "outputs": [],
   "source": [
    "aa = rr+mm"
   ]
  },
  {
   "cell_type": "code",
   "execution_count": null,
   "metadata": {},
   "outputs": [],
   "source": [
    "plt.imshow(rr)"
   ]
  },
  {
   "cell_type": "code",
   "execution_count": null,
   "metadata": {},
   "outputs": [],
   "source": [
    "def create(data, dtg, size=100, dir='./dataval/' , prefix='file-'):\n",
    "    \"\"\"\n",
    "    Membuat database dari sebuah gambar dengan alpha, taruh direktori di dir\n",
    "    dir: lokasi penyimpanan\n",
    "    prefix: menambahkan prefix pada file.\n",
    "    \"\"\"\n",
    "    for i in range(0,size):\n",
    "        if i % 100 == 0:\n",
    "            print('.', end=\"\")\n",
    "        pic, _ , cord = generate(data,dtg)\n",
    "\n",
    "        fld = dir + prefix + \"{0:06d}\".format(i) + '.jpg'\n",
    "\n",
    "        dd = lambda x: f\"0 \" + str(((x[2]-x[0]) // 2) + x[0]) + \" \" + str(((x[3]-x[1]) // 2) + x[1]) + \" \" + \\\n",
    "            str(((x[2]-x[0]) // 2) + x[0]) + \" \" + str(((x[3]-x[1]) // 2) + x[1])\n",
    "        pic = cv2.cvtColor(pic, cv2.COLOR_RGB2BGR)\n",
    "        cv2.imwrite(fld, pic)\n",
    "\n",
    "        fln = dir + prefix + \"{0:06d}\".format(i) + '.txt'\n",
    "\n",
    "        with open(fln,'w') as f:\n",
    "            f.write(dd(cord))"
   ]
  },
  {
   "cell_type": "code",
   "execution_count": null,
   "metadata": {},
   "outputs": [],
   "source": [
    "def buildlist():\n",
    "    flist = glob.glob('./dataval/*.jpg')\n",
    "    flist.sort()\n",
    "    for idx, i in enumerate(flist):\n",
    "        fn = i.replace('\\\\','/')\n",
    "        flist[idx] = fn\n",
    "    \n",
    "    with open('./dataval.txt','w') as f:\n",
    "        for i in flist:\n",
    "            f.write(i+'\\n')"
   ]
  },
  {
   "cell_type": "code",
   "execution_count": null,
   "metadata": {},
   "outputs": [],
   "source": [
    "buildlist()"
   ]
  },
  {
   "cell_type": "code",
   "execution_count": null,
   "metadata": {
    "scrolled": true
   },
   "outputs": [],
   "source": []
  },
  {
   "cell_type": "code",
   "execution_count": null,
   "metadata": {},
   "outputs": [],
   "source": []
  }
 ],
 "metadata": {
  "kernelspec": {
   "display_name": "Python 3",
   "language": "python",
   "name": "python3"
  },
  "language_info": {
   "codemirror_mode": {
    "name": "ipython",
    "version": 3
   },
   "file_extension": ".py",
   "mimetype": "text/x-python",
   "name": "python",
   "nbconvert_exporter": "python",
   "pygments_lexer": "ipython3",
   "version": "3.6.4"
  }
 },
 "nbformat": 4,
 "nbformat_minor": 2
}
